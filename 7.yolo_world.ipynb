{
 "cells": [
  {
   "cell_type": "markdown",
   "metadata": {},
   "source": [
    "# 详细文档\n",
    "[yolo-world](https://docs.ultralytics.com/models/yolo-world/#set-prompts)"
   ]
  },
  {
   "cell_type": "markdown",
   "metadata": {},
   "source": [
    "# 0. 依赖导入"
   ]
  },
  {
   "cell_type": "code",
   "execution_count": 2,
   "metadata": {},
   "outputs": [],
   "source": [
    "from ultralytics import YOLO\n",
    "\n",
    "model = YOLO(r'E:\\Projects\\weights\\yolo\\v8\\world\\yolov8m-worldv2.pt')  # or choose yolov8m/l-world.pt"
   ]
  },
  {
   "cell_type": "markdown",
   "metadata": {},
   "source": [
    "# 1. decect"
   ]
  },
  {
   "cell_type": "markdown",
   "metadata": {},
   "source": [
    "## 1.1 image"
   ]
  },
  {
   "cell_type": "code",
   "execution_count": 5,
   "metadata": {},
   "outputs": [
    {
     "name": "stdout",
     "output_type": "stream",
     "text": [
      "\n",
      "image 1/1 d:\\Projects\\python\\yolo_usage\\10.jpeg: 448x640 (no detections), 68.0ms\n",
      "Speed: 5.5ms preprocess, 68.0ms inference, 1.0ms postprocess per image at shape (1, 3, 448, 640)\n"
     ]
    }
   ],
   "source": [
    "# Define custom classes\n",
    "model.set_classes([\"person\", \"bus\"])\n",
    "\n",
    "# Execute prediction for specified categories on an image\n",
    "results = model.predict('10.jpeg')\n",
    "\n",
    "# Show results\n",
    "results[0].show()"
   ]
  },
  {
   "cell_type": "markdown",
   "metadata": {},
   "source": [
    "## 1.2 video"
   ]
  },
  {
   "cell_type": "code",
   "execution_count": 8,
   "metadata": {},
   "outputs": [
    {
     "ename": "KeyboardInterrupt",
     "evalue": "",
     "output_type": "error",
     "traceback": [
      "\u001b[1;31m---------------------------------------------------------------------------\u001b[0m",
      "\u001b[1;31mKeyboardInterrupt\u001b[0m                         Traceback (most recent call last)",
      "Cell \u001b[1;32mIn[8], line 60\u001b[0m\n\u001b[0;32m     57\u001b[0m     cv2\u001b[38;5;241m.\u001b[39mimshow(\u001b[38;5;124m\"\u001b[39m\u001b[38;5;124mYOLOv8 worldv2\u001b[39m\u001b[38;5;124m\"\u001b[39m, annotated_frame)\n\u001b[0;32m     59\u001b[0m     \u001b[38;5;66;03m# Break the loop if 'q' is pressed\u001b[39;00m\n\u001b[1;32m---> 60\u001b[0m     \u001b[38;5;28;01mif\u001b[39;00m \u001b[43mcv2\u001b[49m\u001b[38;5;241;43m.\u001b[39;49m\u001b[43mwaitKey\u001b[49m\u001b[43m(\u001b[49m\u001b[38;5;241;43m1\u001b[39;49m\u001b[43m)\u001b[49m \u001b[38;5;241m&\u001b[39m \u001b[38;5;241m0xFF\u001b[39m \u001b[38;5;241m==\u001b[39m \u001b[38;5;28mord\u001b[39m(\u001b[38;5;124m\"\u001b[39m\u001b[38;5;124mq\u001b[39m\u001b[38;5;124m\"\u001b[39m):\n\u001b[0;32m     61\u001b[0m         \u001b[38;5;28;01mbreak\u001b[39;00m\n\u001b[0;32m     62\u001b[0m \u001b[38;5;28;01melse\u001b[39;00m:\n\u001b[0;32m     63\u001b[0m     \u001b[38;5;66;03m# Break the loop if the end of the video is reached\u001b[39;00m\n",
      "\u001b[1;31mKeyboardInterrupt\u001b[0m: "
     ]
    },
    {
     "ename": "",
     "evalue": "",
     "output_type": "error",
     "traceback": [
      "\u001b[1;31mThe Kernel crashed while executing code in the the current cell or a previous cell. Please review the code in the cell(s) to identify a possible cause of the failure. Click <a href='https://aka.ms/vscodeJupyterKernelCrash'>here</a> for more info. View Jupyter <a href='command:jupyter.viewOutput'>log</a> for further details."
     ]
    }
   ],
   "source": [
    "import cv2\n",
    "from ultralytics.utils.plotting import Annotator, colors\n",
    "\n",
    "\n",
    "model.set_classes([\"person\", \"bus\"])\n",
    "cap = cv2.VideoCapture(r\"E:\\Projects\\test_data\\video\\MOT\\MOT17\\test\\MOT17-01.mp4\")\n",
    "while True:\n",
    "    ret, frame = cap.read()\n",
    "    results = model.predict(\n",
    "        source=frame,\n",
    "        imgsz=640,\n",
    "        verbose=False,\n",
    "        )\n",
    "    \n",
    "    annotated_frame = frame.copy()\n",
    "    annotator = Annotator(annotated_frame, line_width=2, example=str(results[0].names))\n",
    "    det = results[0].boxes.data.cpu().numpy()\n",
    "    if len(det):  # 有目标，且有id元素\n",
    "        for *xyxy, conf, cls in reversed(det):\n",
    "            c = int(cls)  # integer class\n",
    "            label = f\"{results[0].names[c]} {conf:.2f}\"\n",
    "            annotator.box_label(xyxy, label, color=colors(c, True))\n",
    "\n",
    "    annotated_frame = annotator.result()\n",
    "    cv2.imshow(\"YOLOv8 worldv2\", annotated_frame)\n",
    "\n",
    "    # Break the loop if 'q' is pressed\n",
    "    if cv2.waitKey(1) & 0xFF == ord(\"q\"):\n",
    "        break\n",
    "\n",
    "cap.release()\n",
    "cv2.destroyAllWindows()"
   ]
  },
  {
   "cell_type": "code",
   "execution_count": null,
   "metadata": {},
   "outputs": [],
   "source": [
    "# Initialize a YOLO-World model\n",
    "model = YOLO('yolov8s-world.pt')  # or select yolov8m/l-world.pt\n",
    "\n",
    "# Define custom classes\n",
    "model.set_classes([\"person\", \"bus\"])\n",
    "\n",
    "# Save the model with the defined offline vocabulary\n",
    "model.save(\"custom_yolov8s.pt\")\n",
    "\n",
    "\n",
    "# Load your custom model\n",
    "model = YOLO('custom_yolov8s.pt')\n",
    "\n",
    "# Run inference to detect your custom classes\n",
    "results = model.predict('path/to/image.jpg')\n",
    "\n",
    "# Show results\n",
    "results[0].show()"
   ]
  },
  {
   "cell_type": "code",
   "execution_count": null,
   "metadata": {},
   "outputs": [],
   "source": []
  }
 ],
 "metadata": {
  "kernelspec": {
   "display_name": "yolo",
   "language": "python",
   "name": "python3"
  },
  "language_info": {
   "codemirror_mode": {
    "name": "ipython",
    "version": 3
   },
   "file_extension": ".py",
   "mimetype": "text/x-python",
   "name": "python",
   "nbconvert_exporter": "python",
   "pygments_lexer": "ipython3",
   "version": "3.9.13"
  }
 },
 "nbformat": 4,
 "nbformat_minor": 2
}
