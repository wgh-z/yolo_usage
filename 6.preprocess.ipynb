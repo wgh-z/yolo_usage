{
 "cells": [
  {
   "cell_type": "code",
   "execution_count": null,
   "metadata": {},
   "outputs": [],
   "source": [
    "from ultralytics.data.loaders import LoadStreams\n",
    "from ultralytics.data.augment import LetterBox\n",
    "import numpy as np\n",
    "\n",
    "\n",
    "stream = 'server/list.streams'\n",
    "dataset = LoadStreams(stream, buffer=True)\n",
    "letterbox = LetterBox()\n",
    "\n",
    "for i, (path, im0s, vid_cap, string) in enumerate(dataset):\n",
    "    # print(i, path)\n",
    "    im0_np = np.stack([letterbox(image=im0) for im0 in im0s], axis=0)"
   ]
  }
 ],
 "metadata": {
  "kernelspec": {
   "display_name": "yolo",
   "language": "python",
   "name": "python3"
  },
  "language_info": {
   "name": "python",
   "version": "3.9.13"
  }
 },
 "nbformat": 4,
 "nbformat_minor": 2
}
