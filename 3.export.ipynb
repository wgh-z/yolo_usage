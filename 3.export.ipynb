{
 "cells": [
  {
   "cell_type": "markdown",
   "metadata": {},
   "source": [
    "# 1. 详细文档\n",
    "\n",
    "- [export](https://docs.ultralytics.com/modes/export/)"
   ]
  },
  {
   "cell_type": "markdown",
   "metadata": {},
   "source": [
    "# 2. 用例"
   ]
  },
  {
   "cell_type": "code",
   "execution_count": null,
   "metadata": {},
   "outputs": [],
   "source": [
    "from ultralytics import YOLO\n",
    "\n",
    "\n",
    "model = YOLO(r'E:\\Projects\\weight\\yolo\\v8\\detect\\coco\\yolov8s.pt')"
   ]
  },
  {
   "cell_type": "code",
   "execution_count": null,
   "metadata": {},
   "outputs": [],
   "source": [
    "model.export(\n",
    "    # format='torchscript',\n",
    "    # format='onnx',\n",
    "    format='openvino',\n",
    "    # format='engine',\n",
    "    # format='coreml',\n",
    "    # format='saved_model',\n",
    "    # format='pb',\n",
    "    # format='tflite',\n",
    "    # format='edgetpu',\n",
    "    # format='tfjs',\n",
    "    # format='ncnn',\n",
    "\n",
    "    imgsz=[384, 640], # image size int or (h, w) tuple\n",
    "    # half=True,\n",
    "    # int8=True,\n",
    "    # dynamic=True,\n",
    "    # simplify=True,\n",
    "    # workspace=6\n",
    "    )"
   ]
  }
 ],
 "metadata": {
  "kernelspec": {
   "display_name": "yolo",
   "language": "python",
   "name": "python3"
  },
  "language_info": {
   "name": "python",
   "version": "3.9.13"
  }
 },
 "nbformat": 4,
 "nbformat_minor": 2
}
