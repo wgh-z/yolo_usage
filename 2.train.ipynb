{
 "cells": [
  {
   "cell_type": "markdown",
   "metadata": {},
   "source": [
    "# 1. 详细文档\n",
    "\n",
    "- [train](https://docs.ultralytics.com/modes/train/)\n",
    "- 训练记录\n",
    "\n",
    "        tensorboard --logdir ultralytics/runs\n",
    "    replace with 'runs' directory"
   ]
  },
  {
   "cell_type": "markdown",
   "metadata": {},
   "source": [
    "# 2. 用例\n",
    "\n",
    "- [detect](#22-detect)\n",
    "- [segment](#23-segment)\n",
    "- [classify](#24-classify)\n",
    "- [pose](#25-pose)\n",
    "- [obb](#26-obb)"
   ]
  },
  {
   "cell_type": "markdown",
   "metadata": {},
   "source": [
    "## 2.2 detect"
   ]
  },
  {
   "cell_type": "markdown",
   "metadata": {},
   "source": [
    "### 2.2.1 数据集结构\n",
    "\n",
    "    root/\n",
    "    |-- images/\n",
    "    |   |-- 000001.jpg\n",
    "    |   |-- 000002.jpg\n",
    "    |   |-- ...\n",
    "    |-- labels/\n",
    "    |   |-- classes.txt\n",
    "    |   |-- 000001.txt\n",
    "    |   |-- 000002.txt\n",
    "    |   |-- ...\n",
    "    |-- annotations/\n",
    "    |   |-- 000001.xml\n",
    "    |   |-- 000002.xml\n",
    "    |   |-- ...\n",
    "    |-- train.txt\n",
    "    |-- val.txt\n",
    "    |-- test.txt\n",
    "    |-- name.yaml"
   ]
  },
  {
   "cell_type": "markdown",
   "metadata": {},
   "source": [
    "### 2.2.2 训练"
   ]
  },
  {
   "cell_type": "code",
   "execution_count": null,
   "metadata": {},
   "outputs": [],
   "source": [
    "from ultralytics import YOLO\n",
    "\n",
    "\n",
    "if __name__ == '__main__':\n",
    "    # build a new model from YAML\n",
    "    # 配置文件位置ultralytics\\ultralytics\\cfg\\models\n",
    "    # model = YOLO('yolov8n.yaml')\n",
    "\n",
    "    # load a pretrained model (recommended for training)\n",
    "    model = YOLO('yolov8n.pt')\n",
    "\n",
    "    # build from YAML and transfer weights\n",
    "    # model = YOLO('yolov8n.yaml').load('yolov8n.pt')\n",
    "\n",
    "    # Train the model\n",
    "    results = model.train(\n",
    "        data='coco128.yaml',\n",
    "        epochs=100,\n",
    "        imgsz=640,\n",
    "        patience=100,  # 默认为100\n",
    "        time=None,  # 默认为None。最大训练时间(小时)，设置后会覆盖epochs\n",
    "        resume=True,\n",
    "        device='0',  # or 'cpu' or [0, 1]\n",
    "        workers=4,  # 默认为8。数据加载器的工作线程数\n",
    "        project='runs/train',  # 保存训练结果的文件夹\n",
    "        name='exp',  # 保存训练结果的子文件夹\n",
    "        exist_ok=True,  # 如果文件夹已经存在，是否覆盖\n",
    "        )\n"
   ]
  },
  {
   "cell_type": "markdown",
   "metadata": {},
   "source": [
    "## 2.3 segment"
   ]
  },
  {
   "cell_type": "markdown",
   "metadata": {},
   "source": [
    "### 2.3.1 数据集结构"
   ]
  },
  {
   "cell_type": "markdown",
   "metadata": {},
   "source": [
    "### 2.3.2 训练"
   ]
  },
  {
   "cell_type": "markdown",
   "metadata": {},
   "source": [
    "## 2.4 classify"
   ]
  },
  {
   "cell_type": "markdown",
   "metadata": {},
   "source": [
    "### 2.4.1 数据集结构\n",
    "\n",
    "    root/\n",
    "    |-- train/\n",
    "    |    |-- class1/\n",
    "    |    |   |-- img1.jpg\n",
    "    |    |   |-- img2.jpg\n",
    "    |    |   |-- ...\n",
    "    |    |\n",
    "    |    |-- class2/\n",
    "    |    |   |-- img1.jpg\n",
    "    |    |   |-- img2.jpg\n",
    "    |    |   |-- ...\n",
    "    |    |\n",
    "    |    |-- class3/\n",
    "    |    |   |-- img1.jpg\n",
    "    |    |   |-- img2.jpg\n",
    "    |    |   |-- ...\n",
    "    |    |\n",
    "    |    |-- ...\n",
    "    |\n",
    "    |-- val/\n",
    "    |    |-- class1/\n",
    "    |    |   |-- img1.jpg\n",
    "    |    |-- class2/\n",
    "    |    |   |-- img1.jpg\n",
    "    |    |-- class3/\n",
    "    |    |   |-- img1.jpg\n",
    "    |    |-- ..."
   ]
  },
  {
   "cell_type": "markdown",
   "metadata": {},
   "source": [
    "### 2.4.2 训练"
   ]
  },
  {
   "cell_type": "code",
   "execution_count": null,
   "metadata": {},
   "outputs": [],
   "source": [
    "from ultralytics import YOLO\n",
    "\n",
    "\n",
    "if __name__ == '__main__':\n",
    "    # build a new model from YAML\n",
    "    # 配置文件位置ultralytics\\ultralytics\\cfg\\models\n",
    "    # model = YOLO('yolov8n-cls.yaml')\n",
    "\n",
    "    model = YOLO('yolov8n-cls.pt')\n",
    "\n",
    "    # build from YAML and transfer weights\n",
    "    # model = YOLO('yolov8n-cls.yaml').load('yolov8n-cls.pt')\n",
    "\n",
    "\n",
    "    results = model.train(\n",
    "        data='root',\n",
    "        epochs=100,\n",
    "        imgsz=32, # cifar10, cifar100\n",
    "        # imgsz=224, #  imageNet\n",
    "        )\n"
   ]
  },
  {
   "cell_type": "markdown",
   "metadata": {},
   "source": [
    "## 2.5 pose"
   ]
  },
  {
   "cell_type": "markdown",
   "metadata": {},
   "source": [
    "### 2.5.1 数据集结构"
   ]
  },
  {
   "cell_type": "markdown",
   "metadata": {},
   "source": [
    "### 2.5.2 训练"
   ]
  },
  {
   "cell_type": "markdown",
   "metadata": {},
   "source": [
    "## 2.6 obb"
   ]
  },
  {
   "cell_type": "markdown",
   "metadata": {},
   "source": [
    "### 2.6.1 数据集结构"
   ]
  },
  {
   "cell_type": "markdown",
   "metadata": {},
   "source": [
    "### 2.6.2 训练"
   ]
  }
 ],
 "metadata": {
  "kernelspec": {
   "display_name": "yolo",
   "language": "python",
   "name": "python3"
  },
  "language_info": {
   "name": "python",
   "version": "3.9.13"
  }
 },
 "nbformat": 4,
 "nbformat_minor": 2
}
