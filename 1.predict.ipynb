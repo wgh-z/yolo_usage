{
 "cells": [
  {
   "cell_type": "markdown",
   "metadata": {},
   "source": [
    "# 详细文档\n",
    "\n",
    "- [detect](https://docs.ultralytics.com/modes/predict/#inference-arguments)\n",
    "- [segment](https://docs.ultralytics.com/tasks/segment/)\n",
    "- [classify](https://docs.ultralytics.com/tasks/classify/)\n",
    "- [pose](https://docs.ultralytics.com/tasks/pose/)\n",
    "- [obb](https://docs.ultralytics.com/tasks/obb/)\n",
    "- [track](https://docs.ultralytics.com/modes/track/)"
   ]
  },
  {
   "cell_type": "markdown",
   "metadata": {},
   "source": [
    "# 0. 依赖导入"
   ]
  },
  {
   "cell_type": "code",
   "execution_count": 1,
   "metadata": {},
   "outputs": [],
   "source": [
    "import cv2 as cv\n",
    "import time\n",
    "from ultralytics import YOLO\n",
    "from ultralytics.utils.plotting import Annotator, colors\n",
    "\n",
    "\n",
    "model = YOLO(\n",
    "    r\"E:\\Projects\\weight\\yolo\\v8\\detect\\coco\\yolov8m.pt\",\n",
    "    )\n",
    "source = \"10.jpeg\""
   ]
  },
  {
   "cell_type": "markdown",
   "metadata": {},
   "source": [
    "# 1. detect"
   ]
  },
  {
   "cell_type": "markdown",
   "metadata": {},
   "source": [
    "## 1.1 流式"
   ]
  },
  {
   "cell_type": "code",
   "execution_count": 2,
   "metadata": {},
   "outputs": [
    {
     "name": "stdout",
     "output_type": "stream",
     "text": [
      "dict_keys(['orig_img', 'orig_shape', 'boxes', 'masks', 'probs', 'keypoints', 'obb', 'speed', 'names', 'path', 'save_dir', '_keys'])\n",
      "dict_keys(['data', 'orig_shape', 'is_track'])\n"
     ]
    }
   ],
   "source": [
    "results = model.predict(\n",
    "    source=source,\n",
    "    imgsz=(384, 640),\n",
    "    stream=True,  # False: results=list, True: results=generator\n",
    "    verbose=False\n",
    "    )\n",
    "\n",
    "result = next(results)  # or results[0] for stream=False\n",
    "print(result.__dict__.keys())\n",
    "print(result.boxes.__dict__.keys())"
   ]
  },
  {
   "cell_type": "markdown",
   "metadata": {},
   "source": [
    "## 1.2 循环式"
   ]
  },
  {
   "cell_type": "code",
   "execution_count": 10,
   "metadata": {},
   "outputs": [],
   "source": [
    "results = model.predict(\n",
    "    source=source,\n",
    "    imgsz=(384, 640),\n",
    "    verbose=False\n",
    "    )\n",
    "\n",
    "result = results[0]\n",
    "print(result.__dict__.keys())"
   ]
  },
  {
   "cell_type": "code",
   "execution_count": 4,
   "metadata": {},
   "outputs": [
    {
     "name": "stdout",
     "output_type": "stream",
     "text": [
      "\n",
      "WARNING ⚠️ inference results will accumulate in RAM unless `stream=True` is passed, causing potential out-of-memory\n",
      "errors for large sources or long-running streams and videos. See https://docs.ultralytics.com/modes/predict/ for help.\n",
      "\n",
      "Example:\n",
      "    results = model(source=..., stream=True)  # generator of Results objects\n",
      "    for r in results:\n",
      "        boxes = r.boxes  # Boxes object for bbox outputs\n",
      "        masks = r.masks  # Masks object for segment masks outputs\n",
      "        probs = r.probs  # Class probabilities for classification outputs\n",
      "\n"
     ]
    },
    {
     "name": "stdout",
     "output_type": "stream",
     "text": [
      "dict_keys(['orig_img', 'orig_shape', 'boxes', 'masks', 'probs', 'keypoints', 'obb', 'speed', 'names', 'path', 'save_dir', '_keys'])\n"
     ]
    }
   ],
   "source": [
    "results = model.track(\n",
    "    source=source,\n",
    "    tracker=\"bytetrack.yaml\",  # 20fps\n",
    "    imgsz=(384, 640),\n",
    "    stream=True,\n",
    "    verbose=False\n",
    "    )\n",
    "\n",
    "result = results[0]\n",
    "print(result.__dict__.keys())"
   ]
  },
  {
   "cell_type": "markdown",
   "metadata": {},
   "source": []
  }
 ],
 "metadata": {
  "kernelspec": {
   "display_name": "yolo",
   "language": "python",
   "name": "python3"
  },
  "language_info": {
   "codemirror_mode": {
    "name": "ipython",
    "version": 3
   },
   "file_extension": ".py",
   "mimetype": "text/x-python",
   "name": "python",
   "nbconvert_exporter": "python",
   "pygments_lexer": "ipython3",
   "version": "3.9.13"
  }
 },
 "nbformat": 4,
 "nbformat_minor": 2
}
